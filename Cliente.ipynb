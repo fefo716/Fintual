{
 "cells": [
  {
   "cell_type": "code",
   "execution_count": 1,
   "metadata": {},
   "outputs": [
    {
     "data": {
      "text/plain": [
       "'\\nClase del cliente:nombre, rut, direccion y mail\\nClase de la empresa, que herencie lo del cliente\\nCreación del contrato (txt)\\nMail al cliente para informar el inicio del contrato y las condiciones establecidas\\nDef para validar, por rango de fecha, si se hizo el deposito relacionando el rut.cliente vs el rut.empresa\\nMail al cliente y a la empresa cada vez que se confirma un depósito\\n'"
      ]
     },
     "execution_count": 1,
     "metadata": {},
     "output_type": "execute_result"
    }
   ],
   "source": [
    "'''\n",
    "Clase del cliente:nombre, rut, direccion y mail\n",
    "Clase de la empresa, que herencie lo del cliente\n",
    "Creación del contrato (txt)\n",
    "Mail al cliente para informar el inicio del contrato y las condiciones establecidas\n",
    "Def para validar, por rango de fecha, si se hizo el deposito relacionando el rut.cliente vs el rut.empresa\n",
    "Mail al cliente y a la empresa cada vez que se confirma un depósito\n",
    "'''"
   ]
  },
  {
   "cell_type": "markdown",
   "metadata": {},
   "source": [
    "CONFIGURACIÓN DEL GMAIL DE FINTUAL"
   ]
  },
  {
   "cell_type": "code",
   "execution_count": 2,
   "metadata": {},
   "outputs": [],
   "source": [
    "import smtplib\n",
    "import getpass"
   ]
  },
  {
   "cell_type": "code",
   "execution_count": 3,
   "metadata": {},
   "outputs": [],
   "source": [
    "smtp_object = smtplib.SMTP('smtp.gmail.com',587)"
   ]
  },
  {
   "cell_type": "code",
   "execution_count": 4,
   "metadata": {},
   "outputs": [
    {
     "data": {
      "text/plain": [
       "(250,\n",
       " b'smtp.gmail.com at your service, [152.171.255.102]\\nSIZE 35882577\\n8BITMIME\\nSTARTTLS\\nENHANCEDSTATUSCODES\\nPIPELINING\\nCHUNKING\\nSMTPUTF8')"
      ]
     },
     "execution_count": 4,
     "metadata": {},
     "output_type": "execute_result"
    }
   ],
   "source": [
    "smtp_object.ehlo()"
   ]
  },
  {
   "cell_type": "code",
   "execution_count": 5,
   "metadata": {},
   "outputs": [
    {
     "data": {
      "text/plain": [
       "(220, b'2.0.0 Ready to start TLS')"
      ]
     },
     "execution_count": 5,
     "metadata": {},
     "output_type": "execute_result"
    }
   ],
   "source": [
    "#si el puerto es 587 usamos starttls, sino no hace falta\n",
    "smtp_object.starttls()"
   ]
  },
  {
   "cell_type": "markdown",
   "metadata": {},
   "source": [
    "CLASE DEL CLIENTE"
   ]
  },
  {
   "cell_type": "code",
   "execution_count": 6,
   "metadata": {},
   "outputs": [],
   "source": [
    "import csv"
   ]
  },
  {
   "cell_type": "code",
   "execution_count": 7,
   "metadata": {},
   "outputs": [],
   "source": [
    "class Cliente_apv():\n",
    "    \n",
    "    #datos básicos y necesarios para la cuenta\n",
    "    def __init__(self,name,rut,mail,direccion):\n",
    "        self.rut = rut\n",
    "        self.name = name\n",
    "        self.mail = mail\n",
    "        self.direccion = direccion\n",
    "        \n",
    "    #funcion para crear un txt (contrato) entre el client, el empleador y fintual\n",
    "    def contrato():\n",
    "        %%writefile self.name.txt Hola, somos tu nuevo fondo de Ahorro Previsional Voluntario. '\\n' El acuerdo entre tu y tu empleador es X porcentaje mensual, destinado al APV.\n",
    "        \n",
    "    #funcion para informar por correo el ingreso de dinero al fondo apv\n",
    "    def mail_inicio():\n",
    "        from_address = fefo@fintual.cl\n",
    "        to_address = getpass.getpass(self.mail)\n",
    "        subject = self.name + \"este es tu contrato APV\"\n",
    "        message = \"En el adjunto encontraras todo el detalle acordado.\" + '\\n' + \"Si tienes dudas, no dejes de escribirnos.\" + '\\n' + \"Fefo, de FINTUAL\"\n",
    "        msg = \"Subject: \" + subject + '\\n' + message\n",
    "        smtp_object.sendmail(from_address,to_address,msg)\n",
    "        '''adjuntar txt'''\n",
    "        \n",
    "    def mail_deposito():\n",
    "        deposit = True\n",
    "        \n",
    "        #cruce de info del excel de Previred: si hay deposito correspondiente manda mail de confirmacion al cliente,\n",
    "        #caso contrario envía mail al empleador\n",
    "        \n",
    "        while deposit == True:\n",
    "            data = open('diciembre_provider.csv')\n",
    "            csv_data = csv.reader(data)\n",
    "            data_lines = list(csv_data)\n",
    "            for line in data_lines[1:100001]:\n",
    "                #suponemos que en la columna 3 se encuentra el rut de los destinatarios de deposito\n",
    "                #se deja abierto el motivo y el mensaje del mail para poder redactar de manera personalizada\n",
    "                # FIDELIZACIÓN DEL CLIENTE: CADA MES QUE SE ACREDITE EL DINERO A TIEMPO, SUMAR PUNTOS/PLATA VIRTUAL\n",
    "                if line[3] == self.rut:\n",
    "                    from_address = fefo@fintual.cl\n",
    "                    to_address = getpass.getpass(self.mail)\n",
    "                    subject = input(\"Enter the subject line: \")\n",
    "                    message = input(\"Type out the message you want to send: \")\n",
    "                    msg = \"Subject: \" + subject + '\\n' + message\n",
    "                    smtp_object.sendmail(from_address,to_address,msg)\n",
    "                    break\n",
    "                    \n",
    "                else:\n",
    "                    #proponer en el correo un préstamo con tasa de interes competitiva!\n",
    "                    from_address = fefo@fintual.cl\n",
    "                    to_address = getpass.getpass(self.mail)\n",
    "                    subject = input(\"Enter the subject line: \")\n",
    "                    message = input(\"Type out the message you want to send: \")\n",
    "                    msg = \"Subject: \" + subject + '\\n' + message\n",
    "                    smtp_object.sendmail(from_address,to_address,msg)\n",
    "                    \n",
    "                    deposit == False\n",
    "        \n",
    "        \n",
    "    def __str__(self):\n",
    "            return f\"Bienvenid@ nuevo cliente, {self.name} que vive en {self.direccion} con el siguiente rut: {self.rut}\""
   ]
  },
  {
   "cell_type": "markdown",
   "metadata": {},
   "source": [
    "CLASE DEL EMPLEADOR [tiene herencia Cliente_apv]"
   ]
  },
  {
   "cell_type": "code",
   "execution_count": 8,
   "metadata": {},
   "outputs": [],
   "source": [
    "class Empleador(Cliente_apv):\n",
    "    \n",
    "    def __init__(self,name,rut,mail,direccion):\n",
    "        Cliente_apv.__init__(self,name,rut,mail,direccion)\n",
    "        \n",
    "    def __str__(self):\n",
    "            return f\"Datos del empleador: {self.name} situada en {self.direccion} que se identifica con el siguiente rut: {self.rut}\""
   ]
  },
  {
   "cell_type": "markdown",
   "metadata": {},
   "source": [
    "CREACION DE LOS INTERVINIENTES"
   ]
  },
  {
   "cell_type": "code",
   "execution_count": 9,
   "metadata": {},
   "outputs": [],
   "source": [
    "cliente1 = Cliente_apv(name='FEFO',rut=34839009,mail='fefo.morales@hotmail.com',direccion='Los Conquistadores 2461')"
   ]
  },
  {
   "cell_type": "code",
   "execution_count": 10,
   "metadata": {},
   "outputs": [],
   "source": [
    "empresa1 = Empleador(name='DISNEY',rut=1111111,mail='devops@disney.com',direccion='Los Angeles')"
   ]
  },
  {
   "cell_type": "code",
   "execution_count": 11,
   "metadata": {},
   "outputs": [
    {
     "name": "stdout",
     "output_type": "stream",
     "text": [
      "Datos del empleador: DISNEY situada en Los Angeles que se identifica con el siguiente rut: 1111111\n",
      "Bienvenid@ nuevo cliente, FEFO que vive en Los Conquistadores 2461 con el siguiente rut: 34839009\n"
     ]
    }
   ],
   "source": [
    "print(empresa1)\n",
    "print(cliente1)"
   ]
  }
 ],
 "metadata": {
  "kernelspec": {
   "display_name": "Python 3",
   "language": "python",
   "name": "python3"
  },
  "language_info": {
   "codemirror_mode": {
    "name": "ipython",
    "version": 3
   },
   "file_extension": ".py",
   "mimetype": "text/x-python",
   "name": "python",
   "nbconvert_exporter": "python",
   "pygments_lexer": "ipython3",
   "version": "3.8.5"
  }
 },
 "nbformat": 4,
 "nbformat_minor": 4
}
